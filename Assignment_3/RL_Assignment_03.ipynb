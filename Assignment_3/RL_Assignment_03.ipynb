{
 "cells": [
  {
   "cell_type": "markdown",
   "metadata": {},
   "source": [
    "## Robot Learning\n",
    "\n",
    "## Assignment 3\n",
    "\n",
    "#### Group names: Kaywan, Nicolas, Deepak Badarinath"
   ]
  },
  {
   "cell_type": "markdown",
   "metadata": {},
   "source": [
    "### Introduction\n",
    "\n",
    "Consider the following $10 \\times 10$ grid world:"
   ]
  },
  {
   "cell_type": "markdown",
   "metadata": {},
   "source": [
    "<img src=\"helpers/gridworld_sketch.png\" alt=\"Grid World\" title=\"Grid World\" width=\"650\"/>"
   ]
  },
  {
   "cell_type": "markdown",
   "metadata": {},
   "source": [
    "The agent may start in any cell that is not an obstacle nor the goal.\n",
    "\n",
    "It can choose between eight actions, which correspond to moving to the directions \n",
    "\n",
    "$$a_i \\in \\{NW,      N,      NE,     E,     SE,    S,     SW,     W\\}$$\n",
    "\n",
    "These are indexed according to the order above, i.e. $a_0 = NW$ and $a_6 = SW$.\n",
    "\n",
    "The agent must be careful, for the actions are non-deterministic! The agent moves with probability $0.9$ into the desired\n",
    "direction, but with probability $0.05$ deviates $45^{\\circ}$ to the left and with probability $0.05$ deviates $45^{\\circ}$ \n",
    "to the right of the desired direction due to treacherous gusts unexpectedly sweeping the grid.\n",
    "\n",
    "The rewards are structured as follows:\n",
    "\n",
    "* When it reaches a blue cell, it receives a little snack of 10 points.\n",
    "\n",
    "* All actions entering a white cell receive -1 point.\n",
    "\n",
    "* When the agent reaches the green goal cell, it receives 100 points and the episode ends.\n",
    "\n",
    "* When it attempts to enter a red obstacle cell, it receives -20 points and stays in the cell it came from. This does not additionally yield the reward of the cell it came from.\n",
    "\n",
    "* When it attempts to leave the grid, it receives -30 points and stays in the cell it came from. This does not additionally yield the reward of the cell it came from."
   ]
  },
  {
   "cell_type": "markdown",
   "metadata": {},
   "source": [
    "## Task 11\n",
    "\n",
    "To familiarize yourself with the environment above, answer the following questions:\n",
    "\n",
    "<div style=\"text-align: right; font-weight:bold\"> 2 + 1 + 2 = 5 Points </div>\n",
    "\n",
    "* The agent is at $s = (y_s, x_s) = (3, 6)$ and wants to execute $a_5$. What is the probability $P^{a_5}_{s,s'}$ for $s' =(4,7)$ of moving from state $s$ to follow-up state $s'$ when executing the action $a_5$?\n",
    "\n",
    "* The agent is at $s = (5, 4)$ and wants to execute $a_7$. What is the probability $P^{a_7}_{s,s'}$ for $s'=s$?\n",
    "\n",
    "* The agent is at $s = (3, 8)$ and wants to execute $a_3$. What is the expected value of the reward?"
   ]
  },
  {
   "cell_type": "markdown",
   "metadata": {},
   "source": [
    "#### Answer\n",
    "\n",
    "\n",
    "1)If the agent is on  $s = (y_s, x_s) = (3, 6)$ and wants to execute $a_5$(S), the probability to move from state $s$ to follow-up state $s'$ is:\n",
    "\n",
    "$P^{a_5}_{s,s'}$=0.05 \\\n",
    "The agent goes to S with a probability of 0.9. With a probability of 0.05, he changes the direction by $45^{\\circ}$ (SE) and reaches $s' =(4,7)$\n",
    "\n",
    "\n",
    "2)If the agent is on  $s = (y_s, x_s) = (5, 4)$ and wants to execute $a_7$ (W), the probaility for $s'$=$s$ is:\n",
    "$P^{a_7}_{s,s'}$= $Pr\\{s_{t+1}=s'|s_{t}=s, a_{t}=a_{7}\\}$ + $Pr\\{s_{t+1}=s'|s_{t}=s, a_{t}=a_{7}\\}$ = 0.05 + 0.05\n",
    "=0.10 \\\n",
    "To stay on the same cell, the agent must move towards the upper obstacle (4, 5) or the lower one (6, 5).\n",
    "Since the agent goes to W with the probability 0.9, the probability is 0.05 according to NW (upper obstacle) and 0.05 according to SW(lower obstacle). Both probabilities have to be summed up.\n",
    "\n",
    "3)If the agent is on  $s = (y_s, x_s) = (3, 8)$ and wants to execute $a_3$, the expected value of the reward is:\n",
    "\n",
    "$R^{a_3}_{s,s'}$=$0.9\\times100+0.05\\times(-1)+0.05\\times(-1)$=89.9 \\\n",
    "If the agent moves in direction E he will reach the green goal with probability 0.9 (100 points), with probability 0.05 he will go the direction NE and reaches a white cell (1 points). With probability 0.05 he will go the direction SE and reaches another white cell(1 points).\n"
   ]
  },
  {
   "cell_type": "markdown",
   "metadata": {},
   "source": [
    "## Task 12\n",
    "\n",
    "Using the *Iterative Policy Evaluation* Algorithm, compute the value $V^{\\pi}(s)$ of all accessible cells $s$ for a policy $\\pi(s,a)$ that chooses with probability $0.5$ a random action and otherwise moves to the right.\n",
    "\n",
    "Intialize $V(s)$ with zero, use a discount parameter of $\\gamma=0.9$ and show your results by printing your state values $V^{\\pi}(s)$.\n",
    "\n",
    "<div style=\"text-align: right; font-weight:bold\"> 5 Points </div>\n",
    "\n",
    "#### Note\n",
    "\n",
    "For your convenience, you are provided the helper function *getNextStatesRewardsAndProbabilities(state, action)* which returns for a given state $s$ and an action $a$ a list of 3 -tuples of the form\n",
    "\n",
    "$$[(s_0', R^a_{s,s_0'}, P^a_{s,s_0'}), (s_1', R^a_{s,s_1'}, P^a_{s,s_1'}), \\dots]$$\n",
    "\n",
    "where $s_i'$ are all future states with $P^a_{s,s_i'} \\neq 0$. Here $s = (y, x)$ and $s_i' = (y_i', x_i')$ are both tuples of integers, $a \\in {0, \\dots, 7}$ is an integer, and $R^a_{s,s_i'}$, $P^a_{s,s_i'}$ are both floats.\n",
    "\n",
    "Also, please find below some data structures which you might find helpful and create code and text cells as necessary to present your solution!\n",
    "\n",
    "In your implementation, $V(s)$ should be a $10 \\times 10$ numpy array and $\\pi(s,a)$ should be a $10 \\times 10 \\times 8$ numpy array, where $\\sum_a \\pi(s,a) = 1$ for all s!"
   ]
  },
  {
   "cell_type": "code",
   "execution_count": 1,
   "metadata": {},
   "outputs": [
    {
     "name": "stdout",
     "output_type": "stream",
     "text": [
      "sPrime: (0, 6) R: -30.0 P: 0.05\n",
      "sPrime: (0, 7) R: 10.0 P: 0.9\n",
      "sPrime: (1, 7) R: -1.0 P: 0.05\n"
     ]
    }
   ],
   "source": [
    "import numpy as np\n",
    "from helpers.utils import getNextStatesRewardsAndProbabilities\n",
    "\n",
    "# this is a list of all states\n",
    "states = [(y,x) for y in range(10) for x in range(10)]\n",
    "# this is a list of all states containing obstacles\n",
    "obstacles = [(1,6), (1,8), (2,1), (2,2), (2,3), (2,4), (2,5), (2,6), (2,8), \\\n",
    "             (3,1), (3,7), (4,3), (4,4), (4,5), (4,6), (5,8), \\\n",
    "             (6,1), (6,2), (6,3), (6,4), (6,5), (6,6), (6,7),\\\n",
    "             (8,8), (8,9), (9,4), (9,8), (9,9)]\n",
    "# this is a list containing all goal states\n",
    "terminalStates = [(3,9)]\n",
    "#this is an array containing all actions\n",
    "actions = np.array([0, 1, 2, 3, 4, 5, 6, 7]) #[NW,      N,      NE,     E,     SE,    S,     SW,     W]\n",
    "# example of how to unpack getNextStatesRewardsAndProbabilities(state, action):\n",
    "# create dummy state and action\n",
    "s_test = (0,6)\n",
    "a_test = 3\n",
    "# how to call helper function and loop over the return values\n",
    "for sPrime, R, P in getNextStatesRewardsAndProbabilities(state=s_test, action=a_test):\n",
    "    print('sPrime:', sPrime, 'R:', R, 'P:', P)\n",
    "    \n",
    "# once you have state values V, you can print them with okay'ish formatting like so:\n",
    "#print(\"State Values:\")\n",
    "#print(np.around(V, 1))"
   ]
  },
  {
   "cell_type": "code",
   "execution_count": 2,
   "metadata": {},
   "outputs": [],
   "source": [
    "#Write a function that takes in a policy and states as input and prints out the state values V\n",
    "\n",
    "def policyEvaluation(policy,gamma=0.9,states=states,threshold=0.01,actions=actions,nonReachableStates=terminalStates+obstacles,t_max=100):\n",
    "    V_old = np.zeros(shape=(10,10))\n",
    "\n",
    "    \n",
    "    for t in range(t_max):\n",
    "        delta = 0\n",
    "        V_new = np.zeros(shape=(10,10)) #this will be V_k+1\n",
    "        for state in states:\n",
    "            if state not in nonReachableStates: #if we are in non reachable state then value function is irrevelvant, and simply takes up computation time\n",
    "            \n",
    "                for action in actions:\n",
    "                    \n",
    "                    #Q is supposed to represent Q(s,a) but we don't need to remember s,a as we will add it as soon as action loop ends\n",
    "                    Q = 0\n",
    "                    \n",
    "                    \n",
    "                    for sPrime, R, P in getNextStatesRewardsAndProbabilities(state, action):\n",
    "                        Q += P*(R + gamma*V_old[sPrime]) #represents the sum_s'(Pss'a (Rss'a + gamma*V_k[s']))\n",
    "                    \n",
    "                    \n",
    "                    \n",
    "                    V_new[state]+=policy[state[0],state[1],action] * Q #represents the sum_a(pi(s,a)*Q(s,a))\n",
    "                    \n",
    "            delta = max(delta,abs(V_new[state] - V_old[state]))\n",
    "            #print(delta)\n",
    "            \n",
    "        #print(np.linalg.norm(V_new-V_old))\n",
    "        \n",
    "        if delta<threshold:\n",
    "            #print(f'threshold reached at {t}')\n",
    "            return V_new\n",
    "        \n",
    "        V_old = V_new\n",
    "        \n",
    "    return V_new"
   ]
  },
  {
   "cell_type": "code",
   "execution_count": 3,
   "metadata": {},
   "outputs": [],
   "source": [
    "policy1 = np.ones((10,10,8))/16 #choosing random action with prob 0.5*1/(no of actions) = 1/16\n",
    "policy1[:,:,3] = policy1[:,:,3]+0.5 #choosing right with an additional prob of 0.5"
   ]
  },
  {
   "cell_type": "code",
   "execution_count": 4,
   "metadata": {},
   "outputs": [
    {
     "name": "stdout",
     "output_type": "stream",
     "text": [
      "State Values:\n",
      "[[ -74.6  -78.1  -91.6  -99.9 -108.6 -116.1 -122.8 -142.4 -167.3 -206.4]\n",
      " [ -80.2  -79.7  -87.5  -98.  -109.8 -124.5    0.  -133.2    0.  -179.2]\n",
      " [-120.7    0.     0.     0.     0.     0.     0.   -90.2    0.   -92.7]\n",
      " [-116.1    0.   -57.5  -63.2  -74.   -85.3  -99.3    0.    26.3    0. ]\n",
      " [ -72.4  -64.9  -78.     0.     0.     0.     0.   -56.4  -57.3  -79.9]\n",
      " [ -74.   -72.6  -80.2  -87.6  -93.1  -94.3  -95.2 -106.5    0.  -149.7]\n",
      " [ -87.6    0.     0.     0.     0.     0.     0.     0.  -153.3 -181. ]\n",
      " [ -49.4  -45.5  -50.   -59.9  -72.6  -88.4 -108.2 -132.6 -159.5 -190.1]\n",
      " [ -31.   -30.6  -37.3  -47.4  -59.5  -74.3  -92.4 -118.     0.     0. ]\n",
      " [ -39.1  -41.   -53.5  -75.8    0.   -80.7  -98.7 -126.1    0.     0. ]]\n"
     ]
    }
   ],
   "source": [
    "V1 = policyEvaluation(policy1)\n",
    "print(\"State Values:\")\n",
    "print(np.around(V1, 1))"
   ]
  },
  {
   "cell_type": "markdown",
   "metadata": {},
   "source": [
    "## Task 13\n",
    "\n",
    "Now it is time to find a good policy. Use the *Policy Iteration* algorithm to compute the optimal value $V^*(s)$ for each accessible cell. Please make sure to apply *Policy Iteration* exhaustively, which means to let policy evaluation converge every time before applying policy improvement.\n",
    "\n",
    "Retrieve the resulting optimal-policy $\\pi^*(s)$. To obtain a greedy policy given $V(s)$, make use of:\n",
    "\n",
    "$$\\pi_{greedy}(s) := \\operatorname{argmax}_a Q(s,a) = \\operatorname{argmax}_a \\sum_{s'}P_{ss'}^a\\cdot[R_{ss'}^a+\\gamma\\cdot V(s')]$$\n",
    "\n",
    "As implied by these terms, we recommend using intermediate $Q$-values, shaped $10 \\times 10 \\times 8$ for this step!\n",
    "\n",
    "Finally, present your results by printing $V^*(s)$ and using our helper function *drawPolicy()* to visualize $\\pi^*(s,a)$.\n",
    "\n",
    "<div style=\"text-align: right; font-weight:bold\"> 5 Points </div>"
   ]
  },
  {
   "cell_type": "code",
   "execution_count": 5,
   "metadata": {},
   "outputs": [],
   "source": [
    "def policyEvaluation(policy,gamma=0.9,states=states,threshold=0.01,actions=actions,nonReachableStates=terminalStates+obstacles,t_max=100):\n",
    "    V_old = np.zeros(shape=(10,10))\n",
    "\n",
    "    \n",
    "    for t in range(t_max):\n",
    "        delta = 0\n",
    "        V_new = np.zeros(shape=(10,10)) #this will be V_k+1\n",
    "        for state in states:\n",
    "            if state not in nonReachableStates: #if we are in non reachable state then value function is irrevelvant, and simply takes up computation time\n",
    "            \n",
    "                for action in actions:\n",
    "                    \n",
    "                    #Q is supposed to represent Q(s,a) but we don't need to remember s,a as we will add it as soon as action loop ends\n",
    "                    Q = 0\n",
    "                    \n",
    "                    \n",
    "                    for sPrime, R, P in getNextStatesRewardsAndProbabilities(state, action):\n",
    "                        Q += P*(R + gamma*V_old[sPrime]) #represents the sum_s'(Pss'a (Rss'a + gamma*V_k[s']))\n",
    "                    \n",
    "                    \n",
    "                    \n",
    "                    V_new[state]+=policy[state[0],state[1],action] * Q #represents the sum_a(pi(s,a)*Q(s,a))\n",
    "                    \n",
    "            delta = max(delta,abs(V_new[state] - V_old[state]))\n",
    "            #print(delta)\n",
    "            \n",
    "        #print(np.linalg.norm(V_new-V_old))\n",
    "        \n",
    "        if delta<threshold:\n",
    "            #print(f'threshold reached at {t}')\n",
    "            return V_new\n",
    "        \n",
    "        V_old = V_new\n",
    "        \n",
    "    return V_new"
   ]
  },
  {
   "cell_type": "code",
   "execution_count": 6,
   "metadata": {},
   "outputs": [],
   "source": [
    "def policyImprovment(V,gamma=0.9, states=states, actions=actions, nonReachableStates=terminalStates+obstacles):\n",
    "    policy = np.zeros((10,10,8))\n",
    "    for s in states:\n",
    "        \n",
    "        optimalAction = 0 \n",
    "        maxQ = -np.inf\n",
    "        \n",
    "        for a in actions:\n",
    "            Q = 0\n",
    "            for sPrime, R, P in getNextStatesRewardsAndProbabilities(s, a):\n",
    "                Q += P*(R + gamma*V[sPrime]) #represents the sum_s'(Pss'a (Rss'a + gamma*V_k[s']))\n",
    "            \n",
    "            if Q>maxQ:\n",
    "                maxQ = Q\n",
    "                optimalAction = a # we are taking argmax here\n",
    "        \n",
    "        policy[s[0],s[1],optimalAction] = 1\n",
    "    \n",
    "    return policy"
   ]
  },
  {
   "cell_type": "code",
   "execution_count": 7,
   "metadata": {},
   "outputs": [],
   "source": [
    "from helpers.utils import drawPolicy\n",
    "def policyIteration(V,P,gamma=0.9, states=states,t_max=100,threshold=0.01,actions=actions, nonReachableStates=terminalStates+obstacles):\n",
    "    policy_stabel = False\n",
    "    while(policy_stabel != True):\n",
    "        v1=policyEvaluation(P)\n",
    "        p1=policyImprovment(V)\n",
    "        if(P==p1).all():\n",
    "            policy_stabel=True\n",
    "        P=p1\n",
    "    return P"
   ]
  },
  {
   "cell_type": "code",
   "execution_count": 8,
   "metadata": {},
   "outputs": [
    {
     "name": "stderr",
     "output_type": "stream",
     "text": [
      "C:\\Users\\Kaywan\\Desktop\\RL-Excercises\\Assignment_3\\helpers\\utils.py:80: MatplotlibDeprecationWarning: \n",
      "The tick1On function was deprecated in Matplotlib 3.1 and will be removed in 3.3. Use Tick.tick1line.set_visible instead.\n",
      "  tic.tick1On = tic.tick2On = False\n",
      "C:\\Users\\Kaywan\\Desktop\\RL-Excercises\\Assignment_3\\helpers\\utils.py:80: MatplotlibDeprecationWarning: \n",
      "The tick2On function was deprecated in Matplotlib 3.1 and will be removed in 3.3. Use Tick.tick2line.set_visible instead.\n",
      "  tic.tick1On = tic.tick2On = False\n",
      "C:\\Users\\Kaywan\\Desktop\\RL-Excercises\\Assignment_3\\helpers\\utils.py:81: MatplotlibDeprecationWarning: \n",
      "The label1On function was deprecated in Matplotlib 3.1 and will be removed in 3.3. Use Tick.label1.set_visible instead.\n",
      "  tic.label1On = tic.label2On = False\n",
      "C:\\Users\\Kaywan\\Desktop\\RL-Excercises\\Assignment_3\\helpers\\utils.py:81: MatplotlibDeprecationWarning: \n",
      "The label2On function was deprecated in Matplotlib 3.1 and will be removed in 3.3. Use Tick.label2.set_visible instead.\n",
      "  tic.label1On = tic.label2On = False\n"
     ]
    },
    {
     "data": {
      "image/png": "[encoded data removed]",
      "text/plain": [
       "<Figure size 576x576 with 1 Axes>"
      ]
     },
     "metadata": {},
     "output_type": "display_data"
    }
   ],
   "source": [
    "p = np.ones((10,10,8))/16\n",
    "p[:,:,3] = policy1[:,:,3]+0.5\n",
    "\n",
    "v = np.zeros(shape=(10,10))\n",
    "\n",
    "p2=policyIteration(v,p)\n",
    "drawPolicy(p2)"
   ]
  },
  {
   "cell_type": "markdown",
   "metadata": {},
   "source": [
    "## Task 14\n",
    "\n",
    "Use the *Value Iteration* algorithm to compute the optimal value $V^*(s)$ for each cell. Make sure to reinitialize $V(s)$ with zero. You can sanity-check your results by comparing with $V^*(s)$ from the previous task.\n",
    "\n",
    "Finally, present your results by printing $V^*(s)$ and using our helper function *drawPolicy()* to visualize $\\pi^*(s,a)$.\n",
    "\n",
    "<div style=\"text-align: right; font-weight:bold\"> 5 Points </div>"
   ]
  },
  {
   "cell_type": "code",
   "execution_count": 9,
   "metadata": {},
   "outputs": [],
   "source": [
    "def valueIteration(gamma=0.9, states=states, threshold=0.01 ,actions=actions, nonReachableStates=terminalStates+obstacles, t_max=100):\n",
    "    V_old = np.zeros(shape=(10,10))\n",
    "\n",
    "    \n",
    "    for t in range(t_max):\n",
    "        delta = 0\n",
    "        V_new = np.zeros(shape=(10,10)) #this will be V_k+1\n",
    "        for state in states:\n",
    "            if state not in nonReachableStates: #if we are in non reachable state then value function is irrevelvant, and simply takes up computation time\n",
    "                maxQ = -np.inf\n",
    "                \n",
    "                for action in actions:                    \n",
    "                    Q = 0\n",
    "                    for sPrime, R, P in getNextStatesRewardsAndProbabilities(state, action):\n",
    "                        Q += P*(R + gamma*V_old[sPrime]) #represents the sum_s'(Pss'a (Rss'a + gamma*V_k[s']))\n",
    "                    \n",
    "                    maxQ = max(Q,maxQ)\n",
    "                \n",
    "                V_new[state] = maxQ   \n",
    "                    \n",
    "                delta = max(delta,abs(V_new[state] - V_old[state]))\n",
    "                #print(delta)\n",
    "            \n",
    "        #print(np.linalg.norm(V_new-V_old))\n",
    "        \n",
    "        if delta<threshold:\n",
    "            print(f'threshold reached at {t}')\n",
    "            return V_new\n",
    "        \n",
    "        V_old = V_new\n",
    "        \n",
    "    return V_new\n",
    "    "
   ]
  },
  {
   "cell_type": "code",
   "execution_count": 10,
   "metadata": {},
   "outputs": [
    {
     "name": "stdout",
     "output_type": "stream",
     "text": [
      "threshold reached at 66\n"
     ]
    }
   ],
   "source": [
    "V = valueIteration()"
   ]
  },
  {
   "cell_type": "code",
   "execution_count": 11,
   "metadata": {},
   "outputs": [
    {
     "name": "stdout",
     "output_type": "stream",
     "text": [
      "State Values:\n",
      "[[75.4 75.4 75.4 75.4 67.7 68.6 81.3 82.  84.1 82. ]\n",
      " [77.4 77.9 77.4 76.9 66.7 70.1  0.  84.1  0.  84.1]\n",
      " [67.7  0.   0.   0.   0.   0.   0.  84.6  0.  97.3]\n",
      " [74.2  0.  84.2 84.7 83.1 81.7 80.4  0.  98.7  0. ]\n",
      " [75.3 85.7 84.7  0.   0.   0.   0.  86.3 98.7 97.3]\n",
      " [75.6 85.2 84.2 84.2 71.7 63.8 75.2 85.8  0.  86.3]\n",
      " [86.9  0.   0.   0.   0.   0.   0.   0.  86.8 85.9]\n",
      " [98.8 99.4 99.9 99.9 99.5 99.9 99.9 99.4 97.8 85. ]\n",
      " [99.3 99.9 99.9 99.9 99.4 99.9 99.9 99.9  0.   0. ]\n",
      " [99.3 99.9 99.9 99.9  0.  99.9 99.9 99.9  0.   0. ]]\n"
     ]
    }
   ],
   "source": [
    "print(\"State Values:\")\n",
    "print(np.around(V, 1))"
   ]
  },
  {
   "cell_type": "code",
   "execution_count": 12,
   "metadata": {},
   "outputs": [],
   "source": [
    "# Given a value function V we find the policy by \\pi(s) = Argmax_a Sum_s' (P * (R + gamma*V(s')))\n",
    "def findPolicy(V,gamma=0.9, states=states, actions=actions, nonReachableStates=terminalStates+obstacles):\n",
    "    policy = np.zeros((10,10,8))\n",
    "    for s in states:\n",
    "        \n",
    "        optimalAction = 0 \n",
    "        maxQ = -np.inf\n",
    "        \n",
    "        for a in actions:\n",
    "            Q = 0\n",
    "            for sPrime, R, P in getNextStatesRewardsAndProbabilities(s, a):\n",
    "                Q += P*(R + gamma*V[sPrime]) #represents the sum_s'(Pss'a (Rss'a + gamma*V_k[s']))\n",
    "            \n",
    "            if Q>maxQ:\n",
    "                maxQ = Q\n",
    "                optimalAction = a # we are taking argmax here\n",
    "        \n",
    "        policy[s[0],s[1],optimalAction] = 1\n",
    "    \n",
    "    return policy\n",
    "            \n",
    "            "
   ]
  },
  {
   "cell_type": "code",
   "execution_count": 13,
   "metadata": {},
   "outputs": [
    {
     "data": {
      "text/plain": [
       "array([[[0., 0., 0., 1., 0., 0., 0., 0.],\n",
       "        [0., 0., 0., 1., 0., 0., 0., 0.],\n",
       "        [0., 0., 0., 0., 0., 0., 0., 1.],\n",
       "        [0., 0., 0., 0., 0., 0., 0., 1.],\n",
       "        [0., 0., 0., 0., 0., 0., 1., 0.],\n",
       "        [0., 0., 0., 1., 0., 0., 0., 0.],\n",
       "        [0., 0., 0., 1., 0., 0., 0., 0.],\n",
       "        [0., 0., 0., 1., 0., 0., 0., 0.],\n",
       "        [0., 0., 0., 0., 1., 0., 0., 0.],\n",
       "        [0., 0., 0., 0., 0., 1., 0., 0.]],\n",
       "\n",
       "       [[0., 0., 1., 0., 0., 0., 0., 0.],\n",
       "        [0., 1., 0., 0., 0., 0., 0., 0.],\n",
       "        [1., 0., 0., 0., 0., 0., 0., 0.],\n",
       "        [1., 0., 0., 0., 0., 0., 0., 0.],\n",
       "        [0., 0., 0., 0., 0., 0., 0., 1.],\n",
       "        [0., 0., 1., 0., 0., 0., 0., 0.],\n",
       "        [0., 0., 1., 0., 0., 0., 0., 0.],\n",
       "        [0., 0., 1., 0., 0., 0., 0., 0.],\n",
       "        [0., 0., 0., 1., 0., 0., 0., 0.],\n",
       "        [1., 0., 0., 0., 0., 0., 0., 0.]],\n",
       "\n",
       "       [[0., 0., 1., 0., 0., 0., 0., 0.],\n",
       "        [0., 0., 0., 0., 1., 0., 0., 0.],\n",
       "        [0., 0., 0., 0., 1., 0., 0., 0.],\n",
       "        [0., 0., 0., 0., 0., 1., 0., 0.],\n",
       "        [0., 0., 0., 0., 0., 1., 0., 0.],\n",
       "        [0., 0., 0., 0., 0., 1., 0., 0.],\n",
       "        [0., 0., 0., 0., 0., 0., 1., 0.],\n",
       "        [0., 0., 0., 0., 1., 0., 0., 0.],\n",
       "        [0., 0., 0., 0., 1., 0., 0., 0.],\n",
       "        [0., 0., 0., 0., 0., 1., 0., 0.]],\n",
       "\n",
       "       [[0., 0., 0., 0., 1., 0., 0., 0.],\n",
       "        [0., 0., 0., 0., 1., 0., 0., 0.],\n",
       "        [0., 0., 0., 0., 0., 1., 0., 0.],\n",
       "        [0., 0., 0., 0., 0., 0., 1., 0.],\n",
       "        [0., 0., 0., 0., 0., 0., 0., 1.],\n",
       "        [0., 0., 0., 0., 0., 0., 0., 1.],\n",
       "        [0., 0., 0., 0., 0., 0., 0., 1.],\n",
       "        [0., 0., 0., 0., 1., 0., 0., 0.],\n",
       "        [0., 0., 0., 1., 0., 0., 0., 0.],\n",
       "        [0., 0., 0., 0., 0., 0., 1., 0.]],\n",
       "\n",
       "       [[0., 0., 0., 0., 1., 0., 0., 0.],\n",
       "        [0., 0., 0., 1., 0., 0., 0., 0.],\n",
       "        [0., 0., 1., 0., 0., 0., 0., 0.],\n",
       "        [0., 1., 0., 0., 0., 0., 0., 0.],\n",
       "        [0., 1., 0., 0., 0., 0., 0., 0.],\n",
       "        [0., 1., 0., 0., 0., 0., 0., 0.],\n",
       "        [1., 0., 0., 0., 0., 0., 0., 0.],\n",
       "        [0., 0., 0., 1., 0., 0., 0., 0.],\n",
       "        [0., 0., 1., 0., 0., 0., 0., 0.],\n",
       "        [0., 1., 0., 0., 0., 0., 0., 0.]],\n",
       "\n",
       "       [[0., 0., 1., 0., 0., 0., 0., 0.],\n",
       "        [0., 0., 1., 0., 0., 0., 0., 0.],\n",
       "        [0., 1., 0., 0., 0., 0., 0., 0.],\n",
       "        [1., 0., 0., 0., 0., 0., 0., 0.],\n",
       "        [0., 0., 0., 0., 0., 0., 0., 1.],\n",
       "        [0., 0., 0., 1., 0., 0., 0., 0.],\n",
       "        [0., 0., 1., 0., 0., 0., 0., 0.],\n",
       "        [0., 0., 1., 0., 0., 0., 0., 0.],\n",
       "        [0., 1., 0., 0., 0., 0., 0., 0.],\n",
       "        [1., 0., 0., 0., 0., 0., 0., 0.]],\n",
       "\n",
       "       [[0., 0., 0., 0., 1., 0., 0., 0.],\n",
       "        [0., 0., 0., 0., 0., 1., 0., 0.],\n",
       "        [0., 0., 0., 0., 0., 1., 0., 0.],\n",
       "        [0., 0., 0., 0., 0., 1., 0., 0.],\n",
       "        [0., 0., 0., 0., 0., 1., 0., 0.],\n",
       "        [0., 0., 0., 0., 0., 1., 0., 0.],\n",
       "        [0., 0., 0., 0., 0., 1., 0., 0.],\n",
       "        [0., 0., 0., 0., 0., 1., 0., 0.],\n",
       "        [0., 0., 0., 0., 0., 0., 1., 0.],\n",
       "        [0., 0., 0., 0., 0., 0., 1., 0.]],\n",
       "\n",
       "       [[0., 0., 0., 0., 1., 0., 0., 0.],\n",
       "        [0., 0., 0., 0., 1., 0., 0., 0.],\n",
       "        [0., 0., 0., 0., 0., 1., 0., 0.],\n",
       "        [0., 0., 0., 0., 0., 1., 0., 0.],\n",
       "        [0., 0., 0., 0., 0., 1., 0., 0.],\n",
       "        [0., 0., 0., 0., 0., 1., 0., 0.],\n",
       "        [0., 0., 0., 0., 0., 1., 0., 0.],\n",
       "        [0., 0., 0., 0., 0., 0., 1., 0.],\n",
       "        [0., 0., 0., 0., 0., 0., 1., 0.],\n",
       "        [0., 0., 0., 0., 0., 0., 0., 1.]],\n",
       "\n",
       "       [[0., 0., 0., 1., 0., 0., 0., 0.],\n",
       "        [0., 0., 0., 0., 1., 0., 0., 0.],\n",
       "        [0., 0., 0., 0., 1., 0., 0., 0.],\n",
       "        [0., 0., 0., 0., 0., 0., 1., 0.],\n",
       "        [0., 0., 0., 1., 0., 0., 0., 0.],\n",
       "        [0., 0., 0., 0., 1., 0., 0., 0.],\n",
       "        [0., 0., 0., 0., 0., 1., 0., 0.],\n",
       "        [0., 0., 0., 0., 0., 0., 1., 0.],\n",
       "        [0., 0., 0., 0., 0., 0., 0., 1.],\n",
       "        [1., 0., 0., 0., 0., 0., 0., 0.]],\n",
       "\n",
       "       [[0., 0., 1., 0., 0., 0., 0., 0.],\n",
       "        [0., 0., 1., 0., 0., 0., 0., 0.],\n",
       "        [0., 1., 0., 0., 0., 0., 0., 0.],\n",
       "        [1., 0., 0., 0., 0., 0., 0., 0.],\n",
       "        [0., 0., 1., 0., 0., 0., 0., 0.],\n",
       "        [0., 0., 1., 0., 0., 0., 0., 0.],\n",
       "        [1., 0., 0., 0., 0., 0., 0., 0.],\n",
       "        [1., 0., 0., 0., 0., 0., 0., 0.],\n",
       "        [1., 0., 0., 0., 0., 0., 0., 0.],\n",
       "        [1., 0., 0., 0., 0., 0., 0., 0.]]])"
      ]
     },
     "execution_count": 13,
     "metadata": {},
     "output_type": "execute_result"
    }
   ],
   "source": [
    "pi = findPolicy(V)\n",
    "pi"
   ]
  },
  {
   "cell_type": "code",
   "execution_count": 14,
   "metadata": {
    "scrolled": true
   },
   "outputs": [
    {
     "data": {
      "image/png": "[encoded data removed]",
      "text/plain": [
       "<Figure size 576x576 with 1 Axes>"
      ]
     },
     "metadata": {},
     "output_type": "display_data"
    }
   ],
   "source": [
    "from helpers.utils import drawPolicy\n",
    "drawPolicy(pi)"
   ]
  },
  {
   "cell_type": "code",
   "execution_count": null,
   "metadata": {},
   "outputs": [],
   "source": []
  }
 ],
 "metadata": {
  "kernelspec": {
   "display_name": "Python 3",
   "language": "python",
   "name": "python3"
  },
  "language_info": {
   "codemirror_mode": {
    "name": "ipython",
    "version": 3
   },
   "file_extension": ".py",
   "mimetype": "text/x-python",
   "name": "python",
   "nbconvert_exporter": "python",
   "pygments_lexer": "ipython3",
   "version": "3.8.3"
  }
 },
 "nbformat": 4,
 "nbformat_minor": 2
}
