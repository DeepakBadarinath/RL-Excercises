{
 "cells": [
  {
   "cell_type": "markdown",
   "metadata": {},
   "source": [
    "## Robot Learning\n",
    "\n",
    "## Assignment 5\n",
    "\n",
    "#### Group names: Edit this cell and write your names here"
   ]
  },
  {
   "cell_type": "markdown",
   "metadata": {},
   "source": [
    "### Task 19\n",
    "\n",
    "In the programming task on last weeks assignment sheet you obtained state values for a given policy using either Monte Carlo or TD policy evaluation. Suppose you would like to create a policy which is greedy w.r.t. these state values. How would you proceed? Are there any further terms that you would require? \n",
    "\n",
    "<div style=\"text-align: right; font-weight:bold\"> 4 Points </div>"
   ]
  },
  {
   "cell_type": "markdown",
   "metadata": {},
   "source": [
    "Please answer here."
   ]
  },
  {
   "cell_type": "markdown",
   "metadata": {},
   "source": [
    "### Task 20\n",
    "\n",
    "Please regard the following pseudocode for the Sarsa($\\lambda$) algorithm, taken from the html version of the first edition of \"Reinforcement Learning: An Introduction\" by Barto and Sutton."
   ]
  },
  {
   "cell_type": "markdown",
   "metadata": {},
   "source": [
    "<img src=\"helpers/sarsa_lambda_wrong.PNG\" alt=\"Sarsa Lambda\" title=\"Sarsa Lambda\" width=\"650\"/>"
   ]
  },
  {
   "cell_type": "markdown",
   "metadata": {},
   "source": [
    "Note that the eligibility traces $e(s,a)$ are not reset to zero after each episode. Explain why this is an error in the pseudocode and a reset of the eligibility after each episode is indeed necessary.\n",
    "\n",
    "<div style=\"text-align: right; font-weight:bold\"> 4 Points </div>"
   ]
  },
  {
   "cell_type": "markdown",
   "metadata": {},
   "source": [
    "\n",
    "\n",
    "That the eligibility traces $e(s,a)$ are not reset to zero after each episode is an error in the pseudocode because: \\\n",
    "In the Sarsa($\\lambda$) algorithm we want to reward the states which we visited in the episode. The eligibility traces $e(s,a)$ save the state-action pairs.$ \\ $\n",
    "If we don't reset the values at the beginning of each episode, its an error because we still have the action done from the previous episode. That's a problem because the action done in the new episode could reward actions from the previous episode. \\\n",
    "A reset of the eligibility after each episode is necessary because then we do not have the problem described earlier. A reset is necessary because otherwise an action in the new episode could affect previous episodes.\n",
    "\n",
    "\n",
    "\n",
    "\n",
    "\n",
    "\n"
   ]
  },
  {
   "cell_type": "markdown",
   "metadata": {},
   "source": [
    "### Task 21\n",
    "\n",
    "Recall the following $18 \\times 14$ grid world, which represents a section of a racetrack with a sharp right turn after a lane narrow."
   ]
  },
  {
   "cell_type": "markdown",
   "metadata": {},
   "source": [
    "<img src=\"helpers/racetrack.png\" alt=\"Grid World\" title=\"Grid World\" width=\"650\"/>"
   ]
  },
  {
   "cell_type": "markdown",
   "metadata": {},
   "source": [
    "The agent enters the section on one of the blue cells at the bottom. Its initial velocity is one cell per time step into the upward direction.\n",
    "\n",
    "Actions are to increase or decrease its velocity components by one or to leave it unchanged. To clarify, the actions are not to set a velocity, but to accelerate or decelerate. The velocity is thus part of the agent's state, the available actions are accelerations within the physical limitations of the vehicle that the agent is driving.\n",
    "\n",
    "Both velocity components are restricted to be nonnegative and their sum must be at least 1 and cannot exceed 5. This constrains the available actions based on the agent's current velocity.\n",
    "\n",
    "The rewards are −1 for each step that the agent stays on the track, which is colored green. The reward is −10 if the agent drives into the crash barriers marked in red. \n",
    "\n",
    "The episode ends when the agent crashes or when it succesfully exits the section by driving onto the blue line at the top-right of the grid."
   ]
  },
  {
   "cell_type": "markdown",
   "metadata": {},
   "source": [
    "You are given some information for this environment. Please find it in the data structures below."
   ]
  },
  {
   "cell_type": "code",
   "execution_count": 1,
   "metadata": {},
   "outputs": [],
   "source": [
    "import numpy as np\n",
    "import matplotlib.pyplot as plt\n",
    "\n",
    "racetrack = -10. * np.ones((18,14))\n",
    "\n",
    "circuit =   [(1,x) for x in np.arange(5,13)] + \\\n",
    "            [(2,x) for x in np.arange(4,13)] + \\\n",
    "            [(3,x) for x in np.arange(3,13)] + \\\n",
    "            [(4,x) for x in np.arange(3,13)] + \\\n",
    "            [(5,x) for x in np.arange(3,13)] + \\\n",
    "            [(6,x) for x in np.arange(3,11)] + \\\n",
    "            [(7,x) for x in np.arange(3,9)] + \\\n",
    "            [(8,x) for x in np.arange(3,8)] + \\\n",
    "            [(9,x) for x in np.arange(3,8)] + \\\n",
    "            [(10,x) for x in np.arange(3,8)] + \\\n",
    "            [(11,x) for x in np.arange(4,8)] + \\\n",
    "            [(12,x) for x in np.arange(4,8)] + \\\n",
    "            [(13,x) for x in np.arange(4,7)] + \\\n",
    "            [(14,x) for x in np.arange(4,7)] + \\\n",
    "            [(15,x) for x in np.arange(2,7)] + \\\n",
    "            [(16,x) for x in np.arange(2,7)]\n",
    "            \n",
    "\n",
    "for cell in circuit:\n",
    "    racetrack[cell] = -1.\n",
    "\n",
    "finishLine = [(y,13) for y in np.arange(1,6)]\n",
    "\n",
    "for cell in finishLine:\n",
    "    racetrack[cell] = 0.\n",
    "\n",
    "startingGrid = [(17,x) for x in np.arange(2,7)]\n",
    "\n",
    "for cell in startingGrid:\n",
    "    racetrack[cell] = -1."
   ]
  },
  {
   "cell_type": "markdown",
   "metadata": {},
   "source": [
    "Also, please familiarize yourself with the provided racetrack environment class and helper functions by examining the example episode below, which is played by an agent that makes random decisions at each time step."
   ]
  },
  {
   "cell_type": "code",
   "execution_count": 2,
   "metadata": {},
   "outputs": [
    {
     "data": {
      "image/png": "[encoded data removed]",
      "text/plain": [
       "<Figure size 1008x1296 with 1 Axes>"
      ]
     },
     "metadata": {
      "needs_background": "light"
     },
     "output_type": "display_data"
    }
   ],
   "source": [
    "# get the required helper class and visualization function\n",
    "from helpers.utils import env, drawTrajectory\n",
    "\n",
    "# this makes sure that our description of the episode visualization makes sense\n",
    "np.random.seed(321)\n",
    "\n",
    "# create a racing environment\n",
    "racer = env()\n",
    "# reset the agent to one of the 4 starting cells at random\n",
    "# do this before each new episode\n",
    "racer.reset()\n",
    "# you can also manually set the agent position if you want to examine its behaviour there\n",
    "#racer.setPosition(17,6)\n",
    "# create flag tracking whether the episode is over\n",
    "done = False\n",
    "\n",
    "# create lists to save the trajectory and the decisions of the agent\n",
    "actions = []\n",
    "moves = []\n",
    "velocities = []\n",
    "\n",
    "# these methods do what you would expect\n",
    "# v is an integer in [0, 35] representing a velocity\n",
    "# y, x are both integers, together, they represent the agents location\n",
    "v = racer.getVelocity()\n",
    "y, x = racer.getPosition()\n",
    "\n",
    "# simulate until the episode is over\n",
    "while not done:\n",
    "    # which actions are possible at the current velocity?\n",
    "    # the actions are integers in [0,8]\n",
    "    possibleActions = racer.getAvailableActions()\n",
    "    # select one of them randomly\n",
    "    a = np.random.choice(possibleActions)\n",
    "    # save the action\n",
    "    actions.append(a)\n",
    "    # execute the action using the step function\n",
    "    # y, x, v are new positions and velocities\n",
    "    # done is the flag whether the episode is over\n",
    "    # travel details exactly which cells the agent traveled through\n",
    "    y, x, v, r, done, travel = racer.step(action = a)\n",
    "    # save the velocities\n",
    "    velocities.append(v)\n",
    "    # save the cells that the agent most recently passed through\n",
    "    # they are only needed for visualization\n",
    "    moves.append(travel)\n",
    "\n",
    "# use the helper function to display how the episode went\n",
    "drawTrajectory(moves, actions, velocities)"
   ]
  },
  {
   "cell_type": "markdown",
   "metadata": {},
   "source": [
    "As an output to the cell above, you get a visualization of the agent's path through the race track section. You can see several cells marked in dark blue. These are the grid cells that the agent passed through. Between two time steps, they are calculated by a line drawing algorithm given the current position and velocity of the agent, as well as the acceleration it selected. This acceleration is represented by the arrows with the blue tips. In some cases, a cell will instead contain a circle. This represents the action of no acceleration or deceleration at all, which means that the velocity stays the same as in the previous time step. The red arrows show the velocity of the agent at a certain step after the acceleration the agent selected is added to it. For example, at the very start, the agent has the initial velocity of one cell per step towards the top of the grid. However, it chooses to decelerate in y direction and accelerate towards the right. Thus, the resulting velocity, represented by the first red arrow, points towards the right. Unfortunately, the agent in this episode did not slow down on time and the episode ends in a crash into the barriers at the top of the grid.\n",
    "\n",
    "#### Now to the task: \n",
    "\n",
    "Compute an optimal policy  $\\pi^*(s,a)$  for an agent on the racetrack (obstacle cells do not matter) using either Sarsa *or* Q-Learning (your choice!). Make sure to only use admissible actions at each timestep (*env.getAvailableActions()*). To verify your algorithm, show one trajectory beginning in each of the 5 starting positions. For this purpose you can use *env.setPosition(y,x)* at the beginning of an episode. Depending on your algorithm, decide whether you want to deactivate exploratory actions before presenting your agent's behaviour. Please also report the cumulative moving average episode return during training in a plot. \n",
    "\n",
    "\n",
    "<div style=\"text-align: right; font-weight:bold\"> 8 Points </div>"
   ]
  },
  {
   "cell_type": "code",
   "execution_count": 3,
   "metadata": {},
   "outputs": [],
   "source": [
    "# Your solution goes here."
   ]
  },
  {
   "cell_type": "markdown",
   "metadata": {},
   "source": [
    "### Task 22\n",
    "\n",
    "Repeat the previous task, this time using Sarsa($\\lambda$) to find the optimal policy $\\pi^*(s,a)$. Again present your results as required above.\n",
    "\n",
    "<div style=\"text-align: right; font-weight:bold\"> 4 Points </div>"
   ]
  },
  {
   "cell_type": "code",
   "execution_count": 4,
   "metadata": {},
   "outputs": [],
   "source": [
    "# Your solution goes here."
   ]
  }
 ],
 "metadata": {
  "kernelspec": {
   "display_name": "Python 3",
   "language": "python",
   "name": "python3"
  },
  "language_info": {
   "codemirror_mode": {
    "name": "ipython",
    "version": 3
   },
   "file_extension": ".py",
   "mimetype": "text/x-python",
   "name": "python",
   "nbconvert_exporter": "python",
   "pygments_lexer": "ipython3",
   "version": "3.8.5"
  }
 },
 "nbformat": 4,
 "nbformat_minor": 4
}
