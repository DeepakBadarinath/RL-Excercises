{
 "cells": [
  {
   "cell_type": "markdown",
   "metadata": {},
   "source": [
    "## Robot Learning\n",
    "\n",
    "## Assignment 1\n",
    "\n",
    "#### Group names: Kaywan, Nicolas, Deepak Badarinath\n",
    "\n",
    "### Introduction\n",
    "\n",
    "\n",
    "Please read the theoretical questions and practical tasks below, and answer them in a text or code cell as suitable."
   ]
  },
  {
   "cell_type": "markdown",
   "metadata": {},
   "source": [
    "### Task 1\n",
    "\n",
    "Derive  *Bayes’ Theorem* starting with the definition of conditional probabilities.\n",
    "\n",
    "<div style=\"text-align: right; font-weight:bold\"> 3 Points </div>"
   ]
  },
  {
   "cell_type": "markdown",
   "metadata": {},
   "source": [
    "#### Answer\n",
    "Let $A$ and $B$ be events in some sample space $S$ with probability measure $P$.\n",
    "\n",
    "The conditional probability of A given B, $P(A|B) := \\frac{P(A \\cap B)}{P(B)}$, where $A\\cap B$ is the event that both A and B occur.\n",
    "\n",
    "$\\mathbf{Bayes\\, Theorem}:$ $$P(A|B) = \\frac{P(A) * P(B|A)}{P(B)}$$\n",
    "\n",
    "$\\mathbf{Proof}$ $$P(A\\cap B) = P(A) * P(B|A)$$\n",
    "and $$P(A\\cap B) = P(B) * P(A|B)$$ \n",
    "\n",
    "Equating both terms: \n",
    "$$P(B) * P(A|B) = P(A) * P(B|A)$$\n",
    "resulting in the Bays' Theorem:\n",
    "$$P(A|B) = \\frac{P(A) * P(B|A)}{P(B)}$$"
   ]
  },
  {
   "cell_type": "markdown",
   "metadata": {},
   "source": [
    "### Task 2\n",
    "\n",
    "Derive the closed-loop transfer function $G(s)$ of the complete control loop with controller, actuator, additive noise, plant and sensor (feedback).\n",
    "\n",
    "<div style=\"text-align: right; font-weight:bold\"> 3 Points </div>"
   ]
  },
  {
   "cell_type": "markdown",
   "metadata": {},
   "source": [
    "#### Answer\n",
    "The closed-loop traansfer Function: $G(S)$\n",
    "The input $X(S)$\n",
    "The output $Y(S)$\n",
    "The controller $C(S)$\n",
    "The Actuator $A(S)$\n",
    "The Noise $N(S)$\n",
    "The Plant $P(S)$\n",
    "The Feedback(sensor) $F(S)$\n",
    "\n",
    " The closed-loop Function is defined as $$G(s) = \\frac{Y(S)}{X(S)}$$\n",
    " The output Signal $Y(s)$ is defined by the calculation of the chain of connected blocks which means:\n",
    " $$Y(S)= E(S)*((C(S)*A(S)+N(S))*P(S))$$\n",
    " E(S) is defined by following equation:\n",
    " $$E(S)= X(S) - F(S)*Y(S)$$\n",
    " Substituiting $E(S)$ in the first equaation:\n",
    " $$Y(S)= (X(S) - F(S)*Y(S)) * ((C(S)*A(S)+N(S))*P(S)) $$\n",
    " $$Y(S)= (X(S)*((C(S)*A(S)+N(S))*P(S)) - F(S)*Y(S))*((C(S)*A(S)+N(S))*P(S)) $$\n",
    " $$(X(S)*((C(S)*A(S)+N(S))*P(S))  =  Y(S) + F(S)*Y(S))*((C(S)*A(S)+N(S))*P(S))$$\n",
    " $$(X(S)*((C(S)*A(S)+N(S))*P(S))  =  Y(S) * ( 1 + F(S)*((C(S)*A(S)+N(S))*P(S))$$\n",
    " $$Y(S)  = \\frac{(X(S)*((C(S)*A(S)+N(S))*P(S))}{( 1 + F(S)*((C(S)*A(S)+N(S))*P(S))}$$\n",
    " Following $G(S)=\\frac{Y(S)}{X(S)}$\n",
    " $$G(S)  = \\frac{((C(S)*A(S)+N(S))*P(S)}{( 1 + F(S)*((C(S)*A(S)+N(S))*P(S))}$$"
   ]
  },
  {
   "cell_type": "markdown",
   "metadata": {},
   "source": [
    "### Task 3\n",
    "\n",
    "Propose a design for a reinforcement learning agent that plays *Guessing numbers with Nils*.\n",
    "\n",
    "Please describe how you would shape the action-value function, how you would reward the agent, and how you would calculate the return and determine the policy. Furthermore, how would you set the initial values, and find a balance between exploration and exploitation?\n",
    "\n",
    "\n",
    "<div style=\"text-align: right; font-weight:bold\"> 1 Points </div>"
   ]
  },
  {
   "cell_type": "markdown",
   "metadata": {},
   "source": [
    "#### Answer\n",
    "#### Answer\n",
    "\n",
    "Action-value function\n",
    "\n",
    "The function should be designed in such a way that the interval in which the value could be located should always be halved. If the number we are looking for is greater than the estimated number, the interval above this number is used. Since the intervals always halve, it is only half as long as the original. If the number we are looking for is less than the estimated number, the one below this number is taken and halved.It is important that the feedback from the environment is whether the number we are looking for is greater, less or equal to the estimated number.\n",
    "\n",
    "Reward the agent \n",
    "\n",
    "The agent is rewarded if he guesses the correct number (r = + 1). If the agent guesses wrongly, he gets r = -1\n",
    "\n",
    "Calculation the return and determine the policy\n",
    "The goal is to maximize the return r. So one should try to maximize r in the calculation.\n",
    "\n",
    "\n",
    "Initial Values: \n",
    "\n",
    "The initial value should be generated randomly but close to the middle of the intervals. This means that the probability is almost the same that the estimate is in the upper or lower interval.\n",
    "\n",
    "Balance between exploration and exploitation \n",
    "\n",
    "The balance between exploration and exploitation is that first a value is searched for at random (exploration) then the interval for the new value is searched for on the basis of the feedback (exploitation)\n",
    "\n"
   ]
  },
  {
   "cell_type": "markdown",
   "metadata": {},
   "source": [
    "### Task 4\n",
    "\n",
    "Please explain the role of the control parameter $\\tau$ in the context of softmax action selection in a few words.\n",
    "\n",
    "What happens as $\\tau$ approaches infinity?\n",
    "\n",
    "What is the effect of $\\tau$ approaching zero?\n",
    "\n",
    "\n",
    "<div style=\"text-align: right; font-weight:bold\"> 3 Points </div>"
   ]
  },
  {
   "cell_type": "markdown",
   "metadata": {},
   "source": [
    "#### Answer\n",
    "\n",
    "Heuristically, $\\tau$ represents the balance between exploitation and exploration of our policy. If $\\tau$ is large, then our policy is favouring exploration over exploitation and if $\\tau$ is small, policy is favouring exploitation over exploration .\n",
    "\n",
    "The mathematical reasoning behind this heuristic is that\n",
    "\n",
    "#### As $\\tau$ approaches infinity\n",
    "$P(a_{t}) = |A|^{-1}$ for all actions $a$ and for all times $t$, where $|A|$ is the size of the action space.\n",
    "\n",
    "This is true as $exp(\\frac{Q(a)}{\\infty}) = 1$ for all actions $a$.\n",
    "\n",
    "So we just do a random sampling of actions here.\n",
    "\n",
    "Let $A^{*}$ be the set of actions for which $Q(a_{t})$ is maximum.\n",
    "\n",
    "#### As $\\tau$ approaches zero,\n",
    "\n",
    "For all actions $b$ in $A^{*}$ we can see that in the limit $P(b) = |A^{*}|^{-1}$ \n",
    "\n",
    "For all $a$ not in $A^{*}$ we can see that in the limit $P(a) = 0$ \n",
    "\n",
    "So we just randomly sample between the optimal policies here."
   ]
  },
  {
   "cell_type": "markdown",
   "metadata": {},
   "source": [
    "### Task 5\n",
    "\n",
    "In this notebook, write a function or a decorator that implements a sampling procedure for arbitrary probability distributions, where the density function has a bounded support. Specifically, the sampling should return values $x$, with $0.0 \\leq x \\leq 1.0$ distributed according to a given continuous probability density function $w(x)$. To clarify, the sampling should not be hardcoded, which means that its input could be an arbitrary $w(x)$ as described above, not just the distributions below.\n",
    "\n",
    "Showcase your implementation by sampling from the following two probabiliy distributions:\n",
    "\n",
    "1. Normal distribution around $\\mu = 0.5$ and adjustable $\\sigma$. Visualize for $\\sigma = 0.2$.\n",
    "2. U-quadratic distribution with $\\alpha = 10$ and $\\beta = 0.6$.\n",
    "\n",
    "To show that your sampling works as specified, plot the PDF and the histogram resulting from $100k$ samples for each distribution above using $100$ bins. We are aware that there are many ways to go about solving this task. You may use all functions from all packages included in the *rl_kernel*. Also, feel free to create additional code or text cells if you need it to implement or explain your solution! For guidance on the visualization, you can find an example of a PDF plot and a histogram for some samples from a uniform distribution below.\n",
    "\n",
    "<div style=\"text-align: right; font-weight:bold\"> 4 Points </div>"
   ]
  },
  {
   "cell_type": "markdown",
   "metadata": {},
   "source": [
    "### Answer\n",
    "\n",
    "Let $X$ be the continous random variable, with pdf $w(x)$ and support $[a,b]$. \n",
    "\n",
    "We construct discrete estimators $X_{n}$ of the random variable $X$ s.t as $n \\rightarrow \\infty$, $X_{n} \\rightarrow X$.\n",
    "\n",
    "Fix n\n",
    "\n",
    "1. Partition $[a,b] = \\sqcup_{i=0}^{n-1}[a_{i},b_{i})$, where $a_{i} := a + \\frac{i(b-a)}{n}$ and $b_{i} := a_{i} + \\frac{1}{n}$.\n",
    "\n",
    "2. Calculate $p_{i} := \\int_{a_{i}}^{b_{i}}w(x)dx$ for all i in range(n).\n",
    "\n",
    "3. Let $X_{n}$ be the discrete random variable that takes the value $a_{i}$ with probability $p_{i}$."
   ]
  },
  {
   "cell_type": "code",
   "execution_count": 60,
   "metadata": {},
   "outputs": [],
   "source": [
    "import numpy as np\n",
    "import matplotlib.pyplot as plt\n",
    "from scipy.integrate import quad #for integration of w"
   ]
  },
  {
   "cell_type": "code",
   "execution_count": 61,
   "metadata": {},
   "outputs": [],
   "source": [
    "def u(x):\n",
    "    return 1\n",
    "\n",
    "def uquad_pdf(x,alpha=10,beta=0.6):\n",
    "    return alpha*((x-beta)**2)\n",
    "\n",
    "def normal_pdf(x,sigma=0.2,mu=0.5):\n",
    "    return np.exp(-(x-mu)**2/(2*(sigma**2))) * (1/(np.sqrt(2*np.pi)*sigma))"
   ]
  },
  {
   "cell_type": "code",
   "execution_count": 62,
   "metadata": {},
   "outputs": [],
   "source": [
    "def sample_from_continous(w,a=0,b=1,n=10000,no_of_samples=1):\n",
    "    left_points = np.linspace(a,b-(1/n),num=n)\n",
    "    right_points = np.linspace(a+1/n,b,num=n)\n",
    "    \n",
    "    \n",
    "    weights = []\n",
    "    for i in range(n):\n",
    "        weights.append(quad(w,left_points[i],right_points[i])[0]) \n",
    "    \n",
    "    probabilites = np.array(weights)/sum(weights)\n",
    "    #Sum of weights need not sum upto 1, so we need to normalize\n",
    "    \n",
    "    return np.random.choice(left_points,no_of_samples,p=probabilites)"
   ]
  },
  {
   "cell_type": "code",
   "execution_count": 63,
   "metadata": {
    "scrolled": true
   },
   "outputs": [
    {
     "data": {
      "text/plain": [
       "array([0.6823, 0.5709, 0.8252, ..., 0.0091, 0.7472, 0.5995])"
      ]
     },
     "execution_count": 63,
     "metadata": {},
     "output_type": "execute_result"
    }
   ],
   "source": [
    "sample_from_continous(normal,no_of_samples=10000)"
   ]
  },
  {
   "cell_type": "code",
   "execution_count": 64,
   "metadata": {
    "scrolled": true
   },
   "outputs": [
    {
     "data": {
      "image/png": "[encoded data removed]",
      "text/plain": [
       "<Figure size 1440x288 with 2 Axes>"
      ]
     },
     "metadata": {
      "needs_background": "light"
     },
     "output_type": "display_data"
    }
   ],
   "source": [
    "samples = sample_from_continous(uquad_pdf,no_of_samples=100000)\n",
    "\n",
    "#create plot\n",
    "_, (ax1, ax2) = plt.subplots(1, 2, figsize=(20,4))\n",
    "#get equidistant points to plot PDF at\n",
    "#it is good to leave a margin of 0.2 here on both sides to highlight the cut-off at the borders of [0., 1.]\n",
    "X = np.linspace(-0.2,1.2,100)\n",
    "#plot PDF\n",
    "ax1.plot(X, uquad_pdf(X))\n",
    "ax1.set_title('Uniform Quadratic PDF, alpha=10, beta=0.6')\n",
    "#plot samples\n",
    "ax2.hist(samples, bins=100, range=(-0.2,1.2))\n",
    "ax2.set_title('Histogram of samples from a uniform quadaratic distribution with alpha=10,beta=0.6')\n",
    "plt.show()"
   ]
  },
  {
   "cell_type": "code",
   "execution_count": 65,
   "metadata": {},
   "outputs": [
    {
     "data": {
      "image/png": "[encoded data removed]",
      "text/plain": [
       "<Figure size 1440x288 with 2 Axes>"
      ]
     },
     "metadata": {
      "needs_background": "light"
     },
     "output_type": "display_data"
    }
   ],
   "source": [
    "samples = sample_from_continous(normal_pdf,no_of_samples=100000)\n",
    "\n",
    "#create plot\n",
    "_, (ax1, ax2) = plt.subplots(1, 2, figsize=(20,4))\n",
    "#get equidistant points to plot PDF at\n",
    "#it is good to leave a margin of 0.2 here on both sides to highlight the cut-off at the borders of [0., 1.]\n",
    "X = np.linspace(-0.2,1.2,100)\n",
    "#plot PDF\n",
    "ax1.plot(X, normal_pdf(X))\n",
    "ax1.set_title('Normal PDF, mu=0.5, sigma=0.2')\n",
    "#plot samples\n",
    "ax2.hist(samples, bins=100, range=(-0.2,1.2))\n",
    "ax2.set_title('Histogram of samples from a normal distribution with mu=0.5,sigma=0.2')\n",
    "plt.show()"
   ]
  }
 ],
 "metadata": {
  "kernelspec": {
   "display_name": "Python 3",
   "language": "python",
   "name": "python3"
  },
  "language_info": {
   "codemirror_mode": {
    "name": "ipython",
    "version": 3
   },
   "file_extension": ".py",
   "mimetype": "text/x-python",
   "name": "python",
   "nbconvert_exporter": "python",
   "pygments_lexer": "ipython3",
   "version": "3.7.3"
  }
 },
 "nbformat": 4,
 "nbformat_minor": 2
}
