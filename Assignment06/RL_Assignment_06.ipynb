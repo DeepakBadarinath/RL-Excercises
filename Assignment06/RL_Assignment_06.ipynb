{
 "cells": [
  {
   "cell_type": "markdown",
   "metadata": {},
   "source": [
    "## Robot Learning\n",
    "\n",
    "## Assignment 6\n",
    "\n",
    "#### Group names: Kaywan, Nicolas, Deepak"
   ]
  },
  {
   "cell_type": "markdown",
   "metadata": {},
   "source": [
    "### Introduction\n",
    "\n",
    "Please carefully read the following description of the card game *Blackjack*.\n",
    "\n",
    "The goal of Blackjack is to draw cards such that their values sum to as close to 21 as possible, but do not exceed 21. All cards 2 through 10 are assigned their number as the respective value, face cards like Jack, Queen and King yield a value of 10 points. The aces are special; they can count as either 1 or 11, depending on what is more beneficial. When using the ace as 11 points does not cause the total value of the hand to exceed 21, the ace is called 'usable'. \n",
    "\n",
    "The actions are to *stick*, which means to stop drawing cards and let the dealer play, or to *hit*, which means to draw another card to add to your hand. \n",
    "\n",
    "The opponent is a dealer with a fixed strategy; the dealer will always hit when the dealer's sum of card values is below 17 points. At or above 17 points, the dealer immediately sticks, irrespective of the player's card sum. Note that the dealer only starts playing once the player is finished, so when the player has selected to stick.\n",
    "\n",
    "The game starts by drawing two cards each to player and dealer from an infinite deck. The player can see the own cards, but only the first card which the dealer recieves, the other is face-down. If the player hits and exceeds 21 points, the player is considered *bust* and immediately loses the game. When the player decides to stick, the dealer will draw cards according to its strategy. If the dealer goes *bust* in the process, the player immediately wins the game. If not, the sum of the dealer's card values is compared to the sum of the player's card values. If they are equal, the game is considered a draw. If the player has a higher score, the player wins, and vice versa.\n",
    "\n",
    "In this RL setting, the rewards are +1 for winning, -1 for losing, and 0 for drawing and all intermediate moves. The state is a 3-tuple consisting of the players current hand sum, the value of the dealer's initial open card and a boolean describing whether the player currently has a usable ace or not. The action space consists of the integer $0$, which corresponds to *stick*, and the integer $1$, which corresponds to *hit*. Note that this corresponds exactly to the scenario described in [Example 5.1 in Reinforcement Learning: An Introduction by Sutton and Barto.](http://incompleteideas.net/book/the-book-2nd.html)\n",
    "\n",
    "To get started, please examine the following code cell, which loads the Blackjack environment from the utils file and plays an episode. The player is in this case the random agent. The environment is equivalent to the one provided in OpenAI Gym; we adapted the source code so that installing this python package is not necessary."
   ]
  },
  {
   "cell_type": "code",
   "execution_count": 1,
   "metadata": {},
   "outputs": [
    {
     "name": "stdout",
     "output_type": "stream",
     "text": [
      "Action Sequence: [0]\n",
      "Obtained Rewards: [1.0]\n",
      "State Transitions: [(9, 2, 0), (9, 2, 0)]\n"
     ]
    }
   ],
   "source": [
    "import numpy as np\n",
    "from utils import BlackjackEnv\n",
    "\n",
    "# create a Blackjack environment\n",
    "casino = BlackjackEnv()\n",
    "\n",
    "# do this before each new episode\n",
    "# state is 3-tuple: (player_current_sum, dealer_first_open_card, usable_ace_bool)\n",
    "# if dealer_first_open_card == 1, the dealer is holding an ace!\n",
    "starting_state = casino.reset()\n",
    "\n",
    "# create flag tracking whether the episode is over\n",
    "done = False\n",
    "\n",
    "# create lists to save the trajectory and the decisions of the agent\n",
    "actions, rewards, states = [], [], [starting_state]\n",
    "\n",
    "# simulate until the episode is over\n",
    "while not done:\n",
    "    #in each non-terminal state the agent can either stick (0) or hit (1)\n",
    "    possibleActions = casino.getAvailableActions()\n",
    "    # select one of them randomly\n",
    "    a = np.random.choice(possibleActions)\n",
    "    # save the action\n",
    "    actions.append(a)\n",
    "    # execute the action using the step function\n",
    "    # s is the new state\n",
    "    # done is the flag whether the episode is over\n",
    "    # the fourth output _ is a dict containing additional information on the environment\n",
    "    # it is empty here, but passing it is according to convention in OpenAI Gym environments\n",
    "    s, r, done, _ = casino.step(action = a)\n",
    "    # save the states\n",
    "    rewards.append(r)\n",
    "    states.append(s)\n",
    "    \n",
    "print('Action Sequence:', actions)\n",
    "print('Obtained Rewards:', rewards)\n",
    "print('State Transitions:', states)"
   ]
  },
  {
   "cell_type": "markdown",
   "metadata": {},
   "source": [
    "### Task 23\n",
    "\n",
    "Implement Sarsa($\\lambda$) for Blackjack. Use a time-varying scalar step-size of $\\alpha_t = \\frac{1}{N(s_t,a_t)}$ and an $\\varepsilon$-greedy exploration strategy with annealing:\n",
    "\n",
    "$$\\varepsilon_t = \\frac{N_0}{N_0 + N(s_t)}$$\n",
    "\n",
    "where $N_0$ is a constant, $N(s)$ is the number of times state $s$ has been\n",
    "visited, and $N(s, a)$ is the number of times action $a$ has been selected in state $s$. This procedure is robust over a large selection of different $N_0$, you can tune this value if you like, reasonable choices include, but are not limited to: $N_0=3$, $N_0=25$ or $N_0=90$.\n",
    "\n",
    "Run the algorithm with parameter values $\\lambda \\in \\{0, 0.1, 0.2, \\dots, 1\\}$. Stop exploration and learning\n",
    "after $10000$ episodes and plot the average return for the next $10000$ episodes against $\\lambda$. \n",
    "\n",
    "Note that there is a loop over all state-actions pairs in the Sarsa($\\lambda$) algorithm. This loop is straightforward (but also necessary) to vectorize. Do not hesitate to contact your tutors if you need help with this step.\n",
    "\n",
    "<div style=\"text-align: right; font-weight:bold\"> 7 Points </div>"
   ]
  },
  {
   "cell_type": "code",
   "execution_count": 2,
   "metadata": {},
   "outputs": [],
   "source": [
    "import matplotlib.pyplot as plt"
   ]
  },
  {
   "cell_type": "code",
   "execution_count": 3,
   "metadata": {},
   "outputs": [],
   "source": [
    "def getEpsilonGreedyAction(Q,state,N,N_0):\n",
    "    \n",
    "    sa_0 = tuple(list(state) + [0])\n",
    "    sa_1 = tuple(list(state) + [1])    \n",
    "    epsilon = N_0 / (N_0 + N[state])\n",
    "    \n",
    "    if np.random.rand() > epsilon or Q[sa_0] == Q[sa_1]:\n",
    "        return np.random.randint(2)\n",
    "    else:\n",
    "        if Q[sa_0]>Q[sa_1]:\n",
    "            return 0\n",
    "        else:\n",
    "            return 1\n",
    "            \n",
    "    "
   ]
  },
  {
   "cell_type": "code",
   "execution_count": 4,
   "metadata": {},
   "outputs": [],
   "source": [
    "# Your code can go here\n",
    "Q = np.zeros((32,11,2,2))# Q[s,a] where s= (sum in hand, dealer front card, usable ace)\n",
    "#max sum in hand = 31, min sum in hand > 0, max dealer front card = 10, min dealer front card > 0\n",
    "#even though any state (0,_,_,) or (_,0,_) is non attainable we keep it for making code simpler\n",
    "#We just waste some memory and time by doing so\n",
    "\n",
    "#a = 0/1\n",
    "stateActionVisits = np.zeros((32,11,2,2)) #N(s,a)\n",
    "stateVisits = np.zeros((32,11,2)) #N(s)\n",
    "noEpisodes = 10000\n",
    "epochRewards = []\n",
    "N0_list = [3,25,90]\n",
    "Lambda_list = np.linspace(0,1,num=11)\n",
    "gamma = 1\n"
   ]
  },
  {
   "cell_type": "code",
   "execution_count": 5,
   "metadata": {
    "scrolled": false
   },
   "outputs": [
    {
     "data": {
      "text/plain": [
       "{(0.0, 3): -0.1833,\n",
       " (0.1, 3): -0.4344999999999993,\n",
       " (0.2, 3): -0.404600000000001,\n",
       " (0.30000000000000004, 3): -0.4594999999999992,\n",
       " (0.4, 3): -0.4297999999999992,\n",
       " (0.5, 3): -0.46429999999999777,\n",
       " (0.6000000000000001, 3): -0.47230000000000055,\n",
       " (0.7000000000000001, 3): -0.45059999999999945,\n",
       " (0.8, 3): -0.4931000000000011,\n",
       " (0.9, 3): -0.49179999999999974,\n",
       " (1.0, 3): -0.48160000000000036,\n",
       " (0.0, 25): -0.1920000000000001,\n",
       " (0.1, 25): -0.3868999999999994,\n",
       " (0.2, 25): -0.4573000000000016,\n",
       " (0.30000000000000004, 25): -0.44499999999999906,\n",
       " (0.4, 25): -0.41950000000000043,\n",
       " (0.5, 25): -0.4402000000000019,\n",
       " (0.6000000000000001, 25): -0.4645999999999991,\n",
       " (0.7000000000000001, 25): -0.5036999999999968,\n",
       " (0.8, 25): -0.49210000000000076,\n",
       " (0.9, 25): -0.48830000000000007,\n",
       " (1.0, 25): -0.5140999999999977,\n",
       " (0.0, 90): -0.17409999999999973,\n",
       " (0.1, 90): -0.39810000000000023,\n",
       " (0.2, 90): -0.41969999999999774,\n",
       " (0.30000000000000004, 90): -0.4427999999999997,\n",
       " (0.4, 90): -0.42960000000000065,\n",
       " (0.5, 90): -0.4767000000000013,\n",
       " (0.6000000000000001, 90): -0.47020000000000045,\n",
       " (0.7000000000000001, 90): -0.4760999999999987,\n",
       " (0.8, 90): -0.5082000000000017,\n",
       " (0.9, 90): -0.4562999999999995,\n",
       " (1.0, 90): -0.5058999999999996}"
      ]
     },
     "execution_count": 5,
     "metadata": {},
     "output_type": "execute_result"
    }
   ],
   "source": [
    "# create a Blackjack environment\n",
    "casino = BlackjackEnv()\n",
    "avg_N0_Lambda_rewards = {}\n",
    "\n",
    "#Looping over N_0 and Lambda to find best hyperparameter values\n",
    "for N_0 in N0_list:\n",
    "    for Lambda in Lambda_list:\n",
    "\n",
    "        Q = np.zeros((32,11,2,2))\n",
    "        stateActionVisits = np.zeros((32,11,2,2)) #N(s,a)\n",
    "        stateVisits = np.zeros((32,11,2)) #N(s)\n",
    "        \n",
    "        \n",
    "        #Training\n",
    "        for epoch in range(noEpisodes):\n",
    "            #print(f'Epoch No ',epoch)\n",
    "            \n",
    "            starting_state = casino.reset() #Get start state\n",
    "\n",
    "            # create flag tracking whether the episode is over\n",
    "            done = False\n",
    "\n",
    "            e = np.zeros((32,11,2,2)) #reset eligibility trace\n",
    "\n",
    "            s = starting_state\n",
    "            stateVisits[starting_state]+=1\n",
    "            \n",
    "            a = getEpsilonGreedyAction(Q,s,stateVisits,N_0)\n",
    "            #print(a)\n",
    "\n",
    "            sa = tuple(list(s) + [a]) #state_action_pair\n",
    "            #print(sa)\n",
    "            stateActionVisits[sa]+=1\n",
    "\n",
    "            #Running an epoch\n",
    "            while not done:\n",
    "                s_prime, r, done, _ = casino.step(action = a)\n",
    "                stateVisits[s_prime]+=1\n",
    "\n",
    "                a_prime = getEpsilonGreedyAction(Q,s_prime,stateVisits,N_0)\n",
    "\n",
    "\n",
    "                sa_prime = tuple(list(s_prime) + [a_prime])\n",
    "                #print(sa_prime)\n",
    "                stateActionVisits[sa_prime]+=1\n",
    "                \n",
    "                delta = r + gamma*Q[sa_prime] - Q[sa]\n",
    "                e[sa]+=1\n",
    "\n",
    "                e = e*gamma*Lambda\n",
    "                Q+= (1/stateActionVisits[sa]) * delta * e #Q update\n",
    "\n",
    "                s = s_prime\n",
    "                a = a_prime\n",
    "                sa = sa_prime\n",
    "                \n",
    "        #Testing\n",
    "        avg_reward = 0\n",
    "        for epoch in range(noEpisodes):\n",
    "            #print(f'Epoch No ',epoch)\n",
    "            \n",
    "            episodeReward = 0\n",
    "            starting_state = casino.reset() #Get start state\n",
    "            s = starting_state\n",
    "\n",
    "            # create flag tracking whether the episode is over\n",
    "            done = False\n",
    "            \n",
    "            a = np.argmax(Q[s[0],s[1],s[2],:]) #Choosing action with best Q values\n",
    "            #Running an epoch\n",
    "            while not done:\n",
    "                s_prime, r, done, _ = casino.step(action = a)\n",
    "                \n",
    "                episodeReward+=r\n",
    "                \n",
    "                a_prime = np.argmax(Q[s[0],s[1],s[2],:]) #Choosing action with best Q values\n",
    "            \n",
    "            avg_reward += (episodeReward - avg_reward) / (epoch+1)\n",
    "\n",
    "        avg_N0_Lambda_rewards[(Lambda,N_0)] = avg_reward\n",
    "\n",
    "\n",
    "avg_N0_Lambda_rewards"
   ]
  },
  {
   "cell_type": "code",
   "execution_count": 6,
   "metadata": {},
   "outputs": [],
   "source": [
    "import pandas as pd #use pandas to plot bar charts"
   ]
  },
  {
   "cell_type": "code",
   "execution_count": 7,
   "metadata": {
    "scrolled": true
   },
   "outputs": [
    {
     "data": {
      "image/png": "[encoded data removed]",
      "text/plain": [
       "<Figure size 864x576 with 1 Axes>"
      ]
     },
     "metadata": {
      "needs_background": "light"
     },
     "output_type": "display_data"
    },
    {
     "data": {
      "image/png": "[encoded data removed]",
      "text/plain": [
       "<Figure size 864x576 with 1 Axes>"
      ]
     },
     "metadata": {
      "needs_background": "light"
     },
     "output_type": "display_data"
    },
    {
     "data": {
      "image/png": "[encoded data removed]",
      "text/plain": [
       "<Figure size 864x576 with 1 Axes>"
      ]
     },
     "metadata": {
      "needs_background": "light"
     },
     "output_type": "display_data"
    }
   ],
   "source": [
    "#Plotting for diff hyperparameters\n",
    "for N0 in N0_list:\n",
    "    avg_rewards = []\n",
    "    for Lambda in Lambda_list:\n",
    "        avg_rewards.append(avg_N0_Lambda_rewards[(Lambda,N_0)])\n",
    "    \n",
    "    #Code to plot beautiful bar charts\n",
    "    freq_series = pd.Series(avg_rewards)\n",
    "    plt.figure(figsize=(12, 8))\n",
    "    ax = freq_series.plot(kind='bar')\n",
    "    ax.set_title(f'AvgRewards Vs Lambda for N0 = {N0}')\n",
    "    ax.set_xlabel('Lambda')\n",
    "    ax.set_ylabel('Avg Rewards')\n",
    "    ax.set_xticklabels(Lambda_list)\n",
    "    plt.show()\n",
    "    "
   ]
  },
  {
   "cell_type": "markdown",
   "metadata": {},
   "source": [
    "We see that the result doesn't depend much on N0 but on lambda. Setting N0 = 25 and Lambda = 0, we get the best results."
   ]
  },
  {
   "cell_type": "markdown",
   "metadata": {},
   "source": [
    "### Task 24\n",
    "\n",
    "Use your experiment from task 23 to select your favorite values for $\\lambda$ and $N_0$. Once again, learn $Q$ using the Sarsa($\\lambda$) algorithm for at least 10000 episodes (more is better). This time, show the progress of your training by plotting the average return over $1000$ episodes of greedy action selection according to the current $Q$-values every $1000$ training episodes. Finally, visualize the resulting policy, for example by seperately plotting the actions selected given a usable ace or no usable ace with respect to a given player sum and visible dealer card.\n",
    "\n",
    "<div style=\"text-align: right; font-weight:bold\"> 3 Points </div>"
   ]
  },
  {
   "cell_type": "code",
   "execution_count": 8,
   "metadata": {},
   "outputs": [],
   "source": [
    "Q = np.zeros((32,11,2,2))\n",
    "stateActionVisits = np.zeros((32,11,2,2)) #N(s,a)\n",
    "stateVisits = np.zeros((32,11,2)) #N(s)\n",
    "noEpisodes = 200000\n",
    "epochRewards = []\n",
    "N0 = 25\n",
    "Lambda = 0.0\n",
    "gamma = 1\n"
   ]
  },
  {
   "cell_type": "code",
   "execution_count": 9,
   "metadata": {
    "scrolled": true
   },
   "outputs": [
    {
     "data": {
      "image/png": "[encoded data removed]",
      "text/plain": [
       "<Figure size 432x288 with 1 Axes>"
      ]
     },
     "metadata": {
      "needs_background": "light"
     },
     "output_type": "display_data"
    }
   ],
   "source": [
    "# create a Blackjack environment\n",
    "casino = BlackjackEnv()\n",
    "\n",
    "#Initialize Q , N(s) and N(s,a)\n",
    "Q = np.zeros((32,11,2,2))\n",
    "stateActionVisits = np.zeros((32,11,2,2)) #N(s,a)\n",
    "stateVisits = np.zeros((32,11,2)) #N(s)\n",
    "\n",
    "avg_per_thousand = []\n",
    "total_reward_per_thousand = 0\n",
    "\n",
    "#Training\n",
    "for epoch in range(noEpisodes):\n",
    "    #print(f'Epoch No ',epoch)\n",
    "    \n",
    "    starting_state = casino.reset() #Get start state\n",
    "\n",
    "    # create flag tracking whether the episode is over\n",
    "    done = False\n",
    "\n",
    "    e = np.zeros((32,11,2,2)) #reset eligibility trace\n",
    "\n",
    "    s = starting_state\n",
    "    stateVisits[starting_state]+=1\n",
    "\n",
    "    a = getEpsilonGreedyAction(Q,s,stateVisits,N_0)\n",
    "    #print(a)\n",
    "\n",
    "    sa = tuple(list(s) + [a]) #state_action_pair\n",
    "    #print(sa)\n",
    "    stateActionVisits[sa]+=1\n",
    "    \n",
    "    \n",
    "    episodeReward = 0\n",
    "    \n",
    "    #Running an epoch\n",
    "    while not done:\n",
    "        s_prime, r, done, _ = casino.step(action = a)\n",
    "        stateVisits[s_prime]+=1\n",
    "        episodeReward+=r\n",
    "        \n",
    "        a_prime = getEpsilonGreedyAction(Q,s_prime,stateVisits,N_0)\n",
    "\n",
    "\n",
    "        sa_prime = tuple(list(s_prime) + [a_prime])\n",
    "        #print(sa_prime)\n",
    "        stateActionVisits[sa_prime]+=1\n",
    "\n",
    "        delta = r + gamma*Q[sa_prime] - Q[sa]\n",
    "        e[sa]+=1\n",
    "\n",
    "        e = e*gamma*Lambda\n",
    "        Q+= (1/stateActionVisits[sa]) * delta * e #Q update\n",
    "\n",
    "        s = s_prime\n",
    "        a = a_prime\n",
    "        sa = sa_prime\n",
    "    \n",
    "    total_reward_per_thousand+=episodeReward\n",
    "    if (epoch+1) % 1000 == 0:\n",
    "        avg_per_thousand.append(total_reward_per_thousand/(1000))\n",
    "        total_reward_per_thousand = 0\n",
    "\n",
    "        \n",
    "plt.plot(range(len(avg_per_thousand)),avg_per_thousand)\n",
    "plt.title(\"Avg reward per thousand episodes\")\n",
    "plt.show()"
   ]
  },
  {
   "cell_type": "code",
   "execution_count": 10,
   "metadata": {
    "scrolled": true
   },
   "outputs": [
    {
     "data": {
      "text/plain": [
       "1408"
      ]
     },
     "execution_count": 10,
     "metadata": {},
     "output_type": "execute_result"
    }
   ],
   "source": [
    "np.sum(Q==0)"
   ]
  },
  {
   "cell_type": "code",
   "execution_count": 11,
   "metadata": {},
   "outputs": [
    {
     "data": {
      "text/plain": [
       "(32, 11, 2, 2)"
      ]
     },
     "execution_count": 11,
     "metadata": {},
     "output_type": "execute_result"
    }
   ],
   "source": [
    "Q.shape"
   ]
  },
  {
   "cell_type": "code",
   "execution_count": 12,
   "metadata": {},
   "outputs": [
    {
     "data": {
      "text/plain": [
       "1408"
      ]
     },
     "execution_count": 12,
     "metadata": {},
     "output_type": "execute_result"
    }
   ],
   "source": [
    "32*11*4"
   ]
  },
  {
   "cell_type": "markdown",
   "metadata": {},
   "source": [
    "### Task 25\n",
    "\n",
    "Now consider a simple coarse coding value function approximator that is based on a binary feature vector $\\phi_{s, a} \\in \\mathbb{R}^{128}$ with $8 \\times 4 \\times 2 \\times 2 = 128$ features. Each binary feature has a value of 1 iff $(s, a)$ lies within the cuboid of state-action-space corresponding to that feature. The cuboids have the following overlapping intervals:\n",
    "\n",
    "$player(s) = \\{[4, 7], [6, 9], [8, 11], [10, 13], [12, 15], [14, 17], [16, 19], [18, 21]\\}$\n",
    "\n",
    "$dealer(s) = \\{[1, 4], [3, 6], [5, 8], [7, 10]\\}$\n",
    "\n",
    "$usable\\_ace(s) = \\{0,1\\}$\n",
    "\n",
    "$a = \\{0, 1\\}$\n",
    "\n",
    "where\n",
    "\n",
    "* player(s) is the sum of the player’s cards (4–21) in state s\n",
    "* dealer(s) is the value of the dealer’s first card (1–10) in state s\n",
    "\n",
    "Using this encoding, take one (legal) state-action pair (s,a) of your choosing and state $\\sum_{i=1}^{128} \\phi_{s, a}(i)$.\n",
    "\n",
    "<div style=\"text-align: right; font-weight:bold\"> 1 Point </div>"
   ]
  },
  {
   "cell_type": "markdown",
   "metadata": {},
   "source": [
    "Please write your answer here.\n",
    "\n",
    "Let s,a = (5,8,0,0)\n",
    "\n",
    "This then belongs in two cuboids, one corresponding to [4,7] * [5,8] * 0 * 0 and the other corresponding to [4,7] * [7,10] * 0 * 0\n",
    "\n",
    "So the sum is 2"
   ]
  },
  {
   "cell_type": "markdown",
   "metadata": {},
   "source": [
    "### Task 26\n",
    "\n",
    "Implement a function $phi(s,a)$ which takes a state-action pair $(s,a)$ and maps it to a vector $\\phi_{s,a}$ as described above. Sanity-check this function by applying it to your example (s,a) from the previous task and then calculating the sum over all vector entries.\n",
    "\n",
    "<div style=\"text-align: right; font-weight:bold\"> 4 Points </div>"
   ]
  },
  {
   "cell_type": "code",
   "execution_count": 13,
   "metadata": {},
   "outputs": [],
   "source": [
    "# Your code can go here\n",
    "playerIntervals = [[4, 7], [6, 9], [8, 11], [10, 13], [12, 15], [14, 17], [16, 19], [18, 21]]\n",
    "dealerIntervals = [[1, 4], [3, 6], [5, 8], [7, 10]]\n",
    "\n",
    "def phi(s,a):\n",
    "    representation = np.zeros(shape = (len(playerIntervals),len(dealerIntervals),2,2))\n",
    "    \n",
    "    for i,pInterval in enumerate(playerIntervals):\n",
    "        if (s[0]>= pInterval[0]) and (s[0]<=pInterval[1]):\n",
    "            \n",
    "            for j,dInterval in enumerate(dealerIntervals):\n",
    "                if (s[1]>= dInterval[0]) and (s[1]<=dInterval[1]):\n",
    "                    \n",
    "                    representation[i,j,s[2],a] = 1\n",
    "                    \n",
    "    return representation\n",
    "                         \n",
    "                \n",
    "   "
   ]
  },
  {
   "cell_type": "code",
   "execution_count": 14,
   "metadata": {},
   "outputs": [
    {
     "data": {
      "text/plain": [
       "2.0"
      ]
     },
     "execution_count": 14,
     "metadata": {},
     "output_type": "execute_result"
    }
   ],
   "source": [
    "v = phi((5,8,0),0)\n",
    "np.sum(v)"
   ]
  },
  {
   "cell_type": "markdown",
   "metadata": {},
   "source": [
    "### Task 27\n",
    "\n",
    "Repeat the Sarsa($\\lambda$) experiment from task 23, but this time use a linear value function approximation $Q(s,a) = \\theta \\cdot \\phi_{s,a}$. Use a constant exploration of $\\varepsilon=0.05$ and a constant step-size of $\\alpha=0.02$. \n",
    "\n",
    "As previously, run the algorithm with parameter values $\\lambda \\in \\{0, 0.1, 0.2, \\dots, 1\\}$. Stop exploration and learning after $10000$ episodes and plot the average return for the next $10000$ episodes against $\\lambda$. \n",
    "\n",
    "To clarify, $\\theta$ is a row vector which your algorithm learns instead of $Q(s,a)$. The row vector times column vector product $Q(s,a) = \\theta \\cdot \\phi_{s,a}$ can also be understood as $Q(s,a) = \\sum_{i=0}^{127} \\theta(i)\\phi_{s,a}(i)$.\n",
    "\n",
    "<div style=\"text-align: right; font-weight:bold\"> 5 Points </div>"
   ]
  },
  {
   "cell_type": "code",
   "execution_count": 15,
   "metadata": {},
   "outputs": [],
   "source": [
    "stateActionVisits = np.zeros((32,11,2,2))\n",
    "stateVisits = np.zeros((32,11,2)) \n",
    "noEpisodes = 10000\n",
    "epochRewards = []\n",
    "Lambda_list = np.linspace(0,1,num=11)\n",
    "gamma = 1\n",
    "\n",
    "def getEpsilon(Q,state):\n",
    "    \n",
    "    sa_0 = tuple(list(state) + [0])\n",
    "    sa_1 = tuple(list(state) + [1])    \n",
    "    epsilon = 0.05\n",
    "    \n",
    "    if np.random.rand() > epsilon or Q[sa_0] == Q[sa_1]:\n",
    "        return np.random.randint(2)\n",
    "    else:\n",
    "        if Q[sa_0]>Q[sa_1]:\n",
    "            return 0\n",
    "        else:\n",
    "            return 1\n",
    "            "
   ]
  },
  {
   "cell_type": "code",
   "execution_count": 18,
   "metadata": {},
   "outputs": [
    {
     "data": {
      "text/plain": [
       "{(0.0, 90): -0.18369999999999972,\n",
       " (0.1, 90): -0.40649999999999936,\n",
       " (0.2, 90): -0.39830000000000043,\n",
       " (0.30000000000000004, 90): -0.3993,\n",
       " (0.4, 90): -0.44120000000000065,\n",
       " (0.5, 90): -0.40399999999999847,\n",
       " (0.6000000000000001, 90): -0.4011000000000012,\n",
       " (0.7000000000000001, 90): -0.39489999999999964,\n",
       " (0.8, 90): -0.3818999999999997,\n",
       " (0.9, 90): -0.38070000000000065,\n",
       " (1.0, 90): -0.4009000000000011}"
      ]
     },
     "execution_count": 18,
     "metadata": {},
     "output_type": "execute_result"
    }
   ],
   "source": [
    "# create a Blackjack environment\n",
    "casino = BlackjackEnv()\n",
    "Lambda_rewards = {}\n",
    "\n",
    "#Looping Lambda to find best hyperparameter values\n",
    "for Lambda in Lambda_list:\n",
    "\n",
    "    Q = np.zeros((32,11,2,2))\n",
    "    stateActionVisits = np.zeros((32,11,2,2)) #N(s,a)\n",
    "    stateVisits = np.zeros((32,11,2)) #N(s)\n",
    "     \n",
    "        \n",
    "    #Training\n",
    "    for epoch in range(noEpisodes):\n",
    "        #print(f'Epoch No ',epoch)\n",
    "            \n",
    "        starting_state = casino.reset() #Get start state\n",
    "\n",
    "        # create flag tracking whether the episode is over\n",
    "        done = False\n",
    "\n",
    "        e = np.zeros((32,11,2,2)) #reset eligibility trace\n",
    "\n",
    "        s = starting_state\n",
    "        stateVisits[starting_state]+=1\n",
    "            \n",
    "        a = getEpsilon(Q,s)\n",
    "        #print(a)\n",
    "\n",
    "        sa = tuple(list(s) + [a]) #state_action_pair\n",
    "        #print(sa)\n",
    "        stateActionVisits[sa]+=1\n",
    "\n",
    "        #Running an epoch\n",
    "        while not done:\n",
    "            s_prime, r, done, _ = casino.step(action = a)\n",
    "            stateVisits[s_prime]+=1\n",
    "\n",
    "            a_prime = getEpsilon(Q,s_prime) #with constant espilon\n",
    "\n",
    "\n",
    "            sa_prime = tuple(list(s_prime) + [a_prime])\n",
    "                #print(sa_prime)\n",
    "            stateActionVisits[sa_prime]+=1\n",
    "                \n",
    "            delta = r + gamma*Q[sa_prime] - Q[sa]\n",
    "            e[sa]+=1\n",
    "\n",
    "            e = e*gamma*Lambda\n",
    "            Q+= 0.02 * delta * e #Q update with constant alpha\n",
    "\n",
    "            s = s_prime\n",
    "            a = a_prime\n",
    "            sa = sa_prime\n",
    "                \n",
    "    #Testing\n",
    "    avg_reward = 0\n",
    "    for epoch in range(noEpisodes):\n",
    "        #print(f'Epoch No ',epoch)\n",
    "            \n",
    "        episodeReward = 0\n",
    "        starting_state = casino.reset() #Get start state\n",
    "        s = starting_state\n",
    "\n",
    "        # create flag tracking whether the episode is over\n",
    "        done = False\n",
    "            \n",
    "        a = np.argmax(Q[s[0],s[1],s[2],:]) #Choosing action with best Q values\n",
    "        #Running an epoch\n",
    "        while not done:\n",
    "            s_prime, r, done, _ = casino.step(action = a)\n",
    "                \n",
    "            episodeReward+=r\n",
    "                \n",
    "            a_prime = np.argmax(Q[s[0],s[1],s[2],:]) #Choosing action with best Q values\n",
    "            \n",
    "        avg_reward += (episodeReward - avg_reward) / (epoch+1)\n",
    "\n",
    "    Lambda_rewards[(Lambda,N_0)] = avg_reward\n",
    "\n",
    "\n",
    "Lambda_rewards"
   ]
  },
  {
   "cell_type": "code",
   "execution_count": 20,
   "metadata": {},
   "outputs": [
    {
     "data": {
      "image/png": "[encoded data removed]",
      "text/plain": [
       "<Figure size 864x576 with 1 Axes>"
      ]
     },
     "metadata": {
      "needs_background": "light"
     },
     "output_type": "display_data"
    }
   ],
   "source": [
    "avg_rewards = []\n",
    "for Lambda in Lambda_list:\n",
    "    avg_rewards.append(avg_N0_Lambda_rewards[(Lambda,N_0)])\n",
    "    \n",
    "    #Code to plot beautiful bar charts\n",
    "freq_series = pd.Series(avg_rewards)\n",
    "plt.figure(figsize=(12, 8))\n",
    "ax = freq_series.plot(kind='bar')\n",
    "ax.set_xlabel('Lambda')\n",
    "ax.set_ylabel('Avg Rewards')\n",
    "ax.set_xticklabels(Lambda_list)\n",
    "plt.show()"
   ]
  },
  {
   "cell_type": "code",
   "execution_count": null,
   "metadata": {},
   "outputs": [],
   "source": []
  }
 ],
 "metadata": {
  "kernelspec": {
   "display_name": "Python 3",
   "language": "python",
   "name": "python3"
  },
  "language_info": {
   "codemirror_mode": {
    "name": "ipython",
    "version": 3
   },
   "file_extension": ".py",
   "mimetype": "text/x-python",
   "name": "python",
   "nbconvert_exporter": "python",
   "pygments_lexer": "ipython3",
   "version": "3.8.3"
  }
 },
 "nbformat": 4,
 "nbformat_minor": 4
}
